{
 "cells": [
  {
   "cell_type": "code",
   "execution_count": null,
   "metadata": {},
   "outputs": [],
   "source": [
    "import numpy as np\n",
    "import pandas as pd\n",
    "import matplotlib.pyplot as plt\n",
    "import seaborn as sns"
   ]
  },
  {
   "cell_type": "code",
   "execution_count": null,
   "metadata": {},
   "outputs": [],
   "source": [
    "xls = pd.ExcelFile('data/ProblemCData.xlsx')\n",
    "energy_data = pd.read_excel(xls, 'seseds')\n",
    "variables = pd.read_excel(xls, 'msncodes')"
   ]
  },
  {
   "cell_type": "code",
   "execution_count": null,
   "metadata": {},
   "outputs": [],
   "source": [
    "energy_data.head()"
   ]
  },
  {
   "cell_type": "code",
   "execution_count": null,
   "metadata": {},
   "outputs": [],
   "source": [
    "energy_data['MSN'].nunique()"
   ]
  },
  {
   "cell_type": "code",
   "execution_count": null,
   "metadata": {},
   "outputs": [],
   "source": [
    "variables['MSN'].nunique()"
   ]
  },
  {
   "cell_type": "code",
   "execution_count": null,
   "metadata": {},
   "outputs": [],
   "source": [
    "variables.head()"
   ]
  },
  {
   "cell_type": "code",
   "execution_count": null,
   "metadata": {
    "scrolled": false
   },
   "outputs": [],
   "source": [
    "energy_data.info()"
   ]
  },
  {
   "cell_type": "code",
   "execution_count": null,
   "metadata": {},
   "outputs": [],
   "source": [
    "variable_columns = energy_data['MSN'].unique()\n",
    "variable_columns[:5]"
   ]
  },
  {
   "cell_type": "code",
   "execution_count": null,
   "metadata": {},
   "outputs": [],
   "source": [
    "energy_data['StateCode'].unique()"
   ]
  },
  {
   "cell_type": "code",
   "execution_count": null,
   "metadata": {},
   "outputs": [],
   "source": [
    "AZ_data = energy_data[energy_data['StateCode'] == 'AZ']\n",
    "CA_data = energy_data[energy_data['StateCode'] == 'CA']\n",
    "NM_data = energy_data[energy_data['StateCode'] == 'NM']\n",
    "TX_data = energy_data[energy_data['StateCode'] == 'TX']"
   ]
  },
  {
   "cell_type": "code",
   "execution_count": null,
   "metadata": {},
   "outputs": [],
   "source": [
    "data = {}\n",
    "data['AZ'] = AZ_data.pivot(index='Year', columns='MSN', values='Data')\n",
    "data['TX'] = TX_data.pivot(index='Year', columns='MSN', values='Data')\n",
    "data['CA'] = CA_data.pivot(index='Year', columns='MSN', values='Data')\n",
    "data['NM'] = NM_data.pivot(index='Year', columns='MSN', values='Data')\n",
    "data['AZ']"
   ]
  },
  {
   "cell_type": "code",
   "execution_count": null,
   "metadata": {},
   "outputs": [],
   "source": [
    "plt.plot(data['AZ']['ABICB'], color='red')\n",
    "plt.show()"
   ]
  },
  {
   "cell_type": "code",
   "execution_count": null,
   "metadata": {},
   "outputs": [],
   "source": [
    "sns.heatmap(data['AZ'].isnull())\n",
    "plt.show()"
   ]
  },
  {
   "cell_type": "code",
   "execution_count": null,
   "metadata": {},
   "outputs": [],
   "source": [
    "variables[variables['MSN'] == 'PAACK']"
   ]
  },
  {
   "cell_type": "code",
   "execution_count": null,
   "metadata": {},
   "outputs": [],
   "source": [
    "energy_data[energy_data['MSN'] == 'PAACK']"
   ]
  },
  {
   "cell_type": "code",
   "execution_count": null,
   "metadata": {},
   "outputs": [],
   "source": [
    "xlsx = pd.ExcelFile('data/table5.xlsx')\n",
    "state_CO2_data = pd.read_excel(xlsx, 'Sheet1')\n",
    "state_CO2_data.head(30)"
   ]
  },
  {
   "cell_type": "code",
   "execution_count": null,
   "metadata": {},
   "outputs": [],
   "source": [
    "# This code works, but I didn't merge it in time\n",
    "xlsx = pd.ExcelFile('data/table5.xlsx')\n",
    "state_CO2_data2 = pd.read_excel(xlsx, 'Sheet1', skiprows=5, skipfooter=2)\n",
    "state_CO2_data2 = state_CO2_data2.transpose()\n",
    "state_CO2_data2.columns = state_CO2_data2.loc['State']\n",
    "state_CO2_data2 = state_CO2_data2.drop('State').drop('Percent').drop('Absolute')\n",
    "state_CO2_data2"
   ]
  },
  {
   "cell_type": "code",
   "execution_count": null,
   "metadata": {},
   "outputs": [],
   "source": [
    "state_CO2_data.dropna(inplace=True)"
   ]
  },
  {
   "cell_type": "code",
   "execution_count": null,
   "metadata": {},
   "outputs": [],
   "source": [
    "cols = state_CO2_data.columns"
   ]
  },
  {
   "cell_type": "code",
   "execution_count": null,
   "metadata": {},
   "outputs": [],
   "source": [
    "state_CO2_data_trimmed = state_CO2_data[cols[:17]]"
   ]
  },
  {
   "cell_type": "code",
   "execution_count": null,
   "metadata": {},
   "outputs": [],
   "source": [
    "state_CO2_data_trimmed"
   ]
  },
  {
   "cell_type": "code",
   "execution_count": null,
   "metadata": {},
   "outputs": [],
   "source": [
    "TX_CO2_data = pd.DataFrame()"
   ]
  },
  {
   "cell_type": "code",
   "execution_count": null,
   "metadata": {},
   "outputs": [],
   "source": [
    "useful_cols = cols[1:17]"
   ]
  },
  {
   "cell_type": "code",
   "execution_count": null,
   "metadata": {},
   "outputs": [],
   "source": [
    "state_CO2_data_trimmed[state_CO2_data_trimmed['Unnamed: 0'] == 'State'][useful_cols]"
   ]
  },
  {
   "cell_type": "code",
   "execution_count": null,
   "metadata": {},
   "outputs": [],
   "source": [
    "years = state_CO2_data_trimmed[state_CO2_data_trimmed['Unnamed: 0'] == 'State'][useful_cols].values\n",
    "TX_emissions = state_CO2_data_trimmed[state_CO2_data_trimmed['Unnamed: 0'] == 'Texas'][useful_cols].values"
   ]
  },
  {
   "cell_type": "code",
   "execution_count": null,
   "metadata": {},
   "outputs": [],
   "source": [
    "years"
   ]
  },
  {
   "cell_type": "code",
   "execution_count": null,
   "metadata": {},
   "outputs": [],
   "source": [
    "TX_emissions = TX_emissions[0]"
   ]
  },
  {
   "cell_type": "code",
   "execution_count": null,
   "metadata": {},
   "outputs": [],
   "source": [
    "years = years[0]"
   ]
  },
  {
   "cell_type": "code",
   "execution_count": null,
   "metadata": {},
   "outputs": [],
   "source": [
    "TX_CO2_data['Year'] = years\n",
    "TX_CO2_data['Emissions per Capita'] = TX_emissions"
   ]
  },
  {
   "cell_type": "code",
   "execution_count": null,
   "metadata": {},
   "outputs": [],
   "source": [
    "TX_CO2_data"
   ]
  },
  {
   "cell_type": "code",
   "execution_count": null,
   "metadata": {},
   "outputs": [],
   "source": [
    "CA_emissions = state_CO2_data_trimmed[state_CO2_data_trimmed['Unnamed: 0'] == 'California'][useful_cols].values\n",
    "CA_emissions = CA_emissions[0]\n",
    "\n",
    "NM_emissions = state_CO2_data_trimmed[state_CO2_data_trimmed['Unnamed: 0'] == 'New Mexico'][useful_cols].values\n",
    "NM_emissions = NM_emissions[0]\n",
    "\n",
    "AZ_emissions = state_CO2_data_trimmed[state_CO2_data_trimmed['Unnamed: 0'] == 'Arizona'][useful_cols].values\n",
    "AZ_emissions = AZ_emissions[0]\n",
    "\n",
    "CA_CO2_data = pd.DataFrame({'Year': years, 'Emissions per Capita': CA_emissions})\n",
    "NM_CO2_data = pd.DataFrame({'Year': years, 'Emissions per Capita': NM_emissions})\n",
    "AZ_CO2_data = pd.DataFrame({'Year': years, 'Emissions per Capita': AZ_emissions})"
   ]
  },
  {
   "cell_type": "code",
   "execution_count": null,
   "metadata": {},
   "outputs": [],
   "source": [
    "AZ_CO2_data"
   ]
  },
  {
   "cell_type": "code",
   "execution_count": null,
   "metadata": {},
   "outputs": [],
   "source": [
    "plt.plot(years, CA_CO2_data['Emissions per Capita'], color='blue', label='California')\n",
    "plt.plot(years, TX_CO2_data['Emissions per Capita'], color='red', label='Texas')\n",
    "plt.plot(years, AZ_CO2_data['Emissions per Capita'], color='orange', label='Arizona')\n",
    "plt.plot(years, NM_CO2_data['Emissions per Capita'], color='yellow', label='New Mexico')\n",
    "plt.xlabel('Year')\n",
    "plt.ylabel('CO2 emissions per capita')\n",
    "plt.title('CO2 emissions for e')\n",
    "plt.legend()\n",
    "plt.show()"
   ]
  },
  {
   "cell_type": "code",
   "execution_count": null,
   "metadata": {},
   "outputs": [],
   "source": [
    "data['AZ']['ELISB']"
   ]
  },
  {
   "cell_type": "code",
   "execution_count": null,
   "metadata": {},
   "outputs": [],
   "source": [
    "import functools\n",
    "\n",
    "descriptions = variables['Description'].str.lower().str.replace('.', '').str.strip()\n",
    "def search_vars(*args):\n",
    "    masks = [descriptions.str.contains(arg.lower()) for arg in args]\n",
    "    mask = functools.reduce(lambda x, y: x & y, masks)\n",
    "    return list(set(descriptions[mask]))\n",
    "search_vars('waste')"
   ]
  },
  {
   "cell_type": "code",
   "execution_count": null,
   "metadata": {},
   "outputs": [],
   "source": [
    "import re\n",
    "all_sources = set()\n",
    "all_sectors = set()\n",
    "for description in descriptions:\n",
    "    m = re.match('(.*) consumed by the (.*)', description)\n",
    "    if m and 'factor' not in description:\n",
    "        all_sources.add(m.group(1))\n",
    "        all_sectors.add(m.group(2))"
   ]
  },
  {
   "cell_type": "code",
   "execution_count": null,
   "metadata": {},
   "outputs": [],
   "source": [
    "print(variables['MSN'].str[2:4].unique())\n",
    "all_sectors = {\n",
    "    'AC': 'transportation',\n",
    "    'CC': 'commercial',\n",
    "    'EI': 'electric',\n",
    "    'EG': 'electric',\n",
    "    'IC': 'industrial',\n",
    "    'RC': 'residential',\n",
    "    'HC': 'residential and commercial',\n",
    "}\n",
    "all_sources_shrt = set(variables['MSN'].str[0:2].unique())"
   ]
  },
  {
   "cell_type": "markdown",
   "metadata": {},
   "source": [
    "- [Analysis of Texas](https://www.eia.gov/state/analysis.php?sid=TX)\n",
    "\n",
    "- [CSV meta documentation](https://www.eia.gov/state/seds/sep_use/total/csv/use_csv_doc.pdf)\n",
    "\n",
    "- [Petroleum documentation](https://www.eia.gov/state/seds/sep_fuel/notes/use_petrol.pdf)\n",
    "\n",
    "- [Renewable documentation](https://www.eia.gov/state/seds/sep_fuel/notes/use_renew.pdf)"
   ]
  },
  {
   "cell_type": "code",
   "execution_count": null,
   "metadata": {},
   "outputs": [],
   "source": [
    "petroleum_energy = {\n",
    "    \"AB\": \"aviation gasoline blending components\", # only has statistics for sector=\"transportation\", naturally\n",
    "    \"AV\": \"aviation gasoline\",\n",
    "    \"CL\": \"coal\", # note that we are coal consumed at coke plants. That gets counted in source=\"petroleum coke\"\n",
    "    \"DF\": \"distillate fuel oil\", # sector=\"industrial\" includes refinery fuel and non-refinery fuel\n",
    "    \"JF\": \"jet fuel\", # only sector=\"transportation\", naturally. Includes kerosene-type and naptha-type jet fuel\n",
    "    \"KS\": \"kerosene\",\n",
    "    \"LG\": \"liquified petroleum gas\",\n",
    "    \"MB\": \"motor gasoline blending\",\n",
    "    \"MG\": \"motor gasoline\",\n",
    "    \"FS\": \"petrochemical feedstocks, still gas\", # burned as refinery fuel. Only sector=\"industrial\", naturally\n",
    "    \"JN\": \"naphtha-type jet fuel\",\n",
    "    \"JK\": \"kerosene-type jet fuel\",\n",
    "    \"NA\": \"natural gasoline\",\n",
    "    \"NG\": \"natural gas\",\n",
    "    \"PC\": \"petroleum coke\",\n",
    "    \"RF\": \"residual fuel oil\",\n",
    "    \"SG\": \"still gas\", # make sure this does not include FS\n",
    "}\n",
    "petroleum_other = {\n",
    "    \"AR\": \"asphalt and road oil\",\n",
    "    \"CC\": \"coal coke\", # only has imports and exports\n",
    "    \"CO\": \"crude oil\", # only consumed by sector=\"industrial\", naturally\n",
    "    'DK': 'distillate fuel oil and kerosene-type jet fuel',\n",
    "    'FF': 'fossil fuels', # sum of other things we are measuring\n",
    "    \"LU\": \"lubricants\",\n",
    "    \"FN\": \"petrochemical feedstocks, naphtha less than 401 degrees f,\",\n",
    "    \"FO\": \"petrochemical feedstocks, other oils equal to or greater than 401 degrees f,\",\n",
    "    'MM': 'motor gasoline total consumption excluding fuel ethanol.',\n",
    "    \"MS\": \"miscellaneous petroleum products\",\n",
    "    \"NN\": 'Natural gas (excluding supplemental gaseous fuels)',\n",
    "    \"P1\": 'Asphalt and road oil, aviation gasoline, kerosene, lubricants, and \"other petroleum products\"',\n",
    "    \"P5\": 'Other petroleum products (SG and PC consumed as process fuel and AB, MB, PP, and UO consumed as intermediate products).',\n",
    "    'PA': \"all petroleum products\",\n",
    "    'PM': \"all petroleum products total consumption excluding fuel ethanol\",\n",
    "    \"PO\": \"other petroleum products\",\n",
    "    \"PP\": \"pentanes plus\",\n",
    "    \"SF\": \"supplemental gaseous fuels\",\n",
    "    \"SN\": \"special napthas\",\n",
    "    'UO': 'unfinished oils',\n",
    "    'WX': \"waxes\",\n",
    "}\n",
    "\n",
    "renewable_energy = {\n",
    "    \"EM\": \"fuel ethanol (excluding denaturant)\",\n",
    "    # Fuel ethanol contains a small amount of denaturant, which is added to make thefinished product unsuitable for human consumption. Fuel ethanol denaturantis typically natural gasoline (pentanes plus) or conventional gasoline. Thesevolumes  are  already  accounted  for  under  petroleum.  Therefore,  to  avoiddouble-counting,  and  to  separately  identify  the  renewable  content  of  fuelethanol,  EIA  estimates  the  Btu  content  of  fuel  ethanol  excluding  denaturantconsumed by the United States. \n",
    "    \"GE\": \"geothermal energy\",\n",
    "    # note that geothermal variables are 'different'\n",
    "    # DGECCB\tDirect use of geothermal energy and heat pumps in the commercial sector.\tBillion Btu\n",
    "    \"NU\": \"nuclear\",\n",
    "    \"PL\": \"plant condensate\", # not in documentation. what is this exactly?\n",
    "    'HY': \"hydroelectricity\",\n",
    "    \"SO\": \"photovoltaic and solar thermal energy\",\n",
    "    # consumption data is reported for residential and commercial sectors together\n",
    "    'WD': \"wood\",\n",
    "    'WS': 'waste', # consider \"wood and waste\" instead\n",
    "    'WY': \"wind\",\n",
    "}\n",
    "\n",
    "renewable_other = {\n",
    "    'EN': 'fuel ethanol (including denaturant)', # see EM\n",
    "    'RE': 'renewables',\n",
    "    'WW': 'wood and waste',\n",
    "    'BM': 'biomass', # sum of other things we are measuring\n",
    "    'GO': 'weird combination',\n",
    "    # GOCCB\tGeothermal energy and hydroelectricity consumed in the commercial sector.\n",
    "    # GORCB\tGeothermal and solar energy consumed in the residential sector.\n",
    "    'RO': 'renewable energy production, other than fuel ethanol',\n",
    "}\n",
    "\n",
    "electric_energy = {\n",
    "    'ES': 'electricity'\n",
    "}\n",
    "\n",
    "other_other = {\n",
    "    'PE': 'primary energy',\n",
    "    'TE': 'total energy',\n",
    "    'TN': 'primary energy and electricity',\n",
    "    'US': 'unfractionated stream',\n",
    "    'GD': 'GDP',\n",
    "    'EL': 'electricity (im|ex)ports',\n",
    "    'LO': 'energy losses',\n",
    "    'TP': 'resident population',\n",
    "}"
   ]
  },
  {
   "cell_type": "code",
   "execution_count": null,
   "metadata": {},
   "outputs": [],
   "source": [
    "relevant_sources = functools.reduce(lambda x, y: x | y, [\n",
    "    set(dct.keys())\n",
    "    for dct in [petroleum_energy, renewable_energy, electric_energy]\n",
    "])\n",
    "print(len(relevant_sources), len(relevant_sources) * 5)"
   ]
  },
  {
   "cell_type": "code",
   "execution_count": null,
   "metadata": {},
   "outputs": [],
   "source": [
    "import collections\n",
    "\n",
    "only_eg = {'AC', 'CC', \"EI\", \"IC\", \"RC\"} # only used for electrical power generation\n",
    "\n",
    "zeros = collections.defaultdict(set, {\n",
    "    'EM': {'EI', 'EG', 'RC'}, # not used for electrical power generation nor residential sector\n",
    "    'DF': {'EI', 'EG'}, # not used for electrical power generation\n",
    "    'WY': only_eg,\n",
    "    'NU': only_eg,\n",
    "    'SO': only_eg,\n",
    "    'NG': {'EG'},\n",
    "    'KS': {'AC', 'EI'}\n",
    "})\n",
    "\n",
    "relevant_vars = []\n",
    "for source in relevant_sources:\n",
    "    for sector in all_sectors:\n",
    "        this_var = source + sector + 'B'\n",
    "        these_vars = list(variables[variables['MSN'].str.startswith(this_var)]['MSN'])\n",
    "        if these_vars:\n",
    "            relevant_vars.append(this_var)"
   ]
  },
  {
   "cell_type": "code",
   "execution_count": null,
   "metadata": {},
   "outputs": [],
   "source": [
    "relevant_vars"
   ]
  },
  {
   "cell_type": "code",
   "execution_count": null,
   "metadata": {},
   "outputs": [],
   "source": [
    "energy_profile_vars = list(petroleum_energy.keys()) + list(electric_energy.keys()) + list(renewable_energy.keys())"
   ]
  },
  {
   "cell_type": "code",
   "execution_count": null,
   "metadata": {},
   "outputs": [],
   "source": [
    "energy_profile_vars"
   ]
  },
  {
   "cell_type": "code",
   "execution_count": null,
   "metadata": {},
   "outputs": [],
   "source": [
    "def trunc(x):\n",
    "    return x[:2]"
   ]
  },
  {
   "cell_type": "code",
   "execution_count": null,
   "metadata": {},
   "outputs": [],
   "source": [
    "energy_profile_full_vars = []\n",
    "for column in data['AZ'].columns:\n",
    "    if(trunc(column) in energy_profile_vars):\n",
    "        energy_profile_full_vars.append(column)"
   ]
  },
  {
   "cell_type": "code",
   "execution_count": null,
   "metadata": {},
   "outputs": [],
   "source": [
    "len(energy_profile_full_vars)"
   ]
  },
  {
   "cell_type": "code",
   "execution_count": null,
   "metadata": {},
   "outputs": [],
   "source": [
    "data['AZ'][energy_profile_full_vars]"
   ]
  },
  {
   "cell_type": "code",
   "execution_count": null,
   "metadata": {},
   "outputs": [],
   "source": [
    "rf_training_data_AZ = data['AZ'][(data['AZ'].index <= 2009) & (data['AZ'].index >= 2000)]"
   ]
  },
  {
   "cell_type": "code",
   "execution_count": null,
   "metadata": {},
   "outputs": [],
   "source": [
    "rf_training_data_AZ"
   ]
  },
  {
   "cell_type": "code",
   "execution_count": null,
   "metadata": {},
   "outputs": [],
   "source": [
    "AZ_CO2_data['Emissions per Capita'].loc[:10]"
   ]
  },
  {
   "cell_type": "code",
   "execution_count": null,
   "metadata": {},
   "outputs": [],
   "source": [
    "from sklearn.ensemble import RandomForestRegressor"
   ]
  },
  {
   "cell_type": "code",
   "execution_count": null,
   "metadata": {},
   "outputs": [],
   "source": [
    "random_forest = RandomForestRegressor(n_estimators=1000, n_jobs=4)\n",
    "random_forest.fit(rf_training_data_AZ, AZ_CO2_data['Emissions per Capita'].iloc[:10])"
   ]
  },
  {
   "cell_type": "code",
   "execution_count": null,
   "metadata": {},
   "outputs": [],
   "source": [
    "random_forest.feature_importances_"
   ]
  },
  {
   "cell_type": "code",
   "execution_count": null,
   "metadata": {},
   "outputs": [],
   "source": [
    "feature_importance_dict = dict(zip(energy_profile_full_vars, random_forest.feature_importances_))"
   ]
  },
  {
   "cell_type": "code",
   "execution_count": null,
   "metadata": {},
   "outputs": [],
   "source": [
    "max(feature_importance_dict, key=feature_importance_dict.get)"
   ]
  },
  {
   "cell_type": "code",
   "execution_count": null,
   "metadata": {},
   "outputs": [],
   "source": [
    "top_50_feats = sorted(feature_importance_dict.items(), key=lambda x: x[1])[-50:]"
   ]
  },
  {
   "cell_type": "code",
   "execution_count": null,
   "metadata": {},
   "outputs": [],
   "source": [
    "dict(top_50_feats)"
   ]
  },
  {
   "cell_type": "code",
   "execution_count": null,
   "metadata": {},
   "outputs": [],
   "source": [
    "plt.figure(figsize=(10,15))\n",
    "plt.title('Top ten features in random forest model')\n",
    "plt.bar(range(len(dict(top_50_feats[-10:]))), dict(top_50_feats[-50:]).values(), align='center')\n",
    "plt.xticks(range(len(dict(top_50_feats[-50:]))), list(dict(top_50_feats[-50:]).keys()))\n",
    "plt.xlabel('Feature')\n",
    "plt.ylabel('Importance')\n",
    "plt.show()"
   ]
  },
  {
   "cell_type": "code",
   "execution_count": null,
   "metadata": {},
   "outputs": [],
   "source": []
  }
 ],
 "metadata": {
  "anaconda-cloud": {},
  "kernelspec": {
   "display_name": "Python 3",
   "language": "python",
   "name": "python3"
  },
  "language_info": {
   "codemirror_mode": {
    "name": "ipython",
    "version": 3
   },
   "file_extension": ".py",
   "mimetype": "text/x-python",
   "name": "python",
   "nbconvert_exporter": "python",
   "pygments_lexer": "ipython3",
   "version": "3.6.4"
  }
 },
 "nbformat": 4,
 "nbformat_minor": 2
}
